{
  "nbformat": 4,
  "nbformat_minor": 0,
  "metadata": {
    "colab": {
      "name": "Assignment-1-17110102-Parth Upadhayay",
      "version": "0.3.2",
      "provenance": []
    },
    "kernelspec": {
      "name": "python3",
      "display_name": "Python 3"
    }
  },
  "cells": [
    {
      "cell_type": "markdown",
      "metadata": {
        "id": "PFeb91Y_l482",
        "colab_type": "text"
      },
      "source": [
        "Importing the necessary libraries for the tasks\n"
      ]
    },
    {
      "cell_type": "markdown",
      "metadata": {
        "id": "JHNBaK_CK92W",
        "colab_type": "text"
      },
      "source": [
        "Question. 1\n"
      ]
    },
    {
      "cell_type": "code",
      "metadata": {
        "id": "zBc8Rfq4lg3K",
        "colab_type": "code",
        "colab": {}
      },
      "source": [
        "import pandas as pd\n",
        "import numpy as np\n",
        "import nltk\n",
        "import re\n",
        "from nltk.tokenize import word_tokenize, TweetTokenizer\n",
        "import matplotlib.pyplot as plt\n",
        "import string"
      ],
      "execution_count": 0,
      "outputs": []
    },
    {
      "cell_type": "markdown",
      "metadata": {
        "id": "_-BqpOgCm4fG",
        "colab_type": "text"
      },
      "source": [
        "Loading the dataset and forming a raw text string\n"
      ]
    },
    {
      "cell_type": "code",
      "metadata": {
        "id": "D_x4CjzkmD0x",
        "colab_type": "code",
        "colab": {}
      },
      "source": [
        "df = pd.read_csv('tweets-dataset.csv')"
      ],
      "execution_count": 0,
      "outputs": []
    },
    {
      "cell_type": "code",
      "metadata": {
        "id": "6Eas9DWpEAV9",
        "colab_type": "code",
        "colab": {
          "base_uri": "https://localhost:8080/",
          "height": 195
        },
        "outputId": "c294e6bb-ea40-49a1-c585-82f8bd6ba5d1"
      },
      "source": [
        "df.head()"
      ],
      "execution_count": 3,
      "outputs": [
        {
          "output_type": "execute_result",
          "data": {
            "text/html": [
              "<div>\n",
              "<style scoped>\n",
              "    .dataframe tbody tr th:only-of-type {\n",
              "        vertical-align: middle;\n",
              "    }\n",
              "\n",
              "    .dataframe tbody tr th {\n",
              "        vertical-align: top;\n",
              "    }\n",
              "\n",
              "    .dataframe thead th {\n",
              "        text-align: right;\n",
              "    }\n",
              "</style>\n",
              "<table border=\"1\" class=\"dataframe\">\n",
              "  <thead>\n",
              "    <tr style=\"text-align: right;\">\n",
              "      <th></th>\n",
              "      <th>Sentence</th>\n",
              "    </tr>\n",
              "  </thead>\n",
              "  <tbody>\n",
              "    <tr>\n",
              "      <th>0</th>\n",
              "      <td>@BubblyDentist @MeetUunngLee nahi nahi, mere s...</td>\n",
              "    </tr>\n",
              "    <tr>\n",
              "      <th>1</th>\n",
              "      <td>going to the grammys first entertainment law b...</td>\n",
              "    </tr>\n",
              "    <tr>\n",
              "      <th>2</th>\n",
              "      <td>bohot hi badiya ji aap sunao?</td>\n",
              "    </tr>\n",
              "    <tr>\n",
              "      <th>3</th>\n",
              "      <td>Parvez Musharraf is Digvijay Singh of Pakistan...</td>\n",
              "    </tr>\n",
              "    <tr>\n",
              "      <th>4</th>\n",
              "      <td>guddu ko bass john cena k sticker ki padii hai...</td>\n",
              "    </tr>\n",
              "  </tbody>\n",
              "</table>\n",
              "</div>"
            ],
            "text/plain": [
              "                                            Sentence\n",
              "0  @BubblyDentist @MeetUunngLee nahi nahi, mere s...\n",
              "1  going to the grammys first entertainment law b...\n",
              "2                      bohot hi badiya ji aap sunao?\n",
              "3  Parvez Musharraf is Digvijay Singh of Pakistan...\n",
              "4  guddu ko bass john cena k sticker ki padii hai..."
            ]
          },
          "metadata": {
            "tags": []
          },
          "execution_count": 3
        }
      ]
    },
    {
      "cell_type": "code",
      "metadata": {
        "id": "87ko5ELOrGIr",
        "colab_type": "code",
        "colab": {}
      },
      "source": [
        "raw_text_string = ''\n",
        "for i in df['Sentence']:\n",
        "  raw_text_string  += i\n",
        "raw_text_string = raw_text_string.lower()"
      ],
      "execution_count": 0,
      "outputs": []
    },
    {
      "cell_type": "markdown",
      "metadata": {
        "id": "ooRekuBUEKj9",
        "colab_type": "text"
      },
      "source": [
        "Now let's pre-process the text and make it user friendly.\n",
        "  The main task would include:\n",
        "1. Removing the site links.\n",
        "2. Removing all the string starting with @ and removing all the # tag words.\n",
        "3. Removing all the punctuations\n"
      ]
    },
    {
      "cell_type": "code",
      "metadata": {
        "id": "noObfmUWFX5f",
        "colab_type": "code",
        "colab": {}
      },
      "source": [
        "tweet_tokenize = TweetTokenizer(r'\\w+', strip_handles = True)\n",
        "raw_text_string = re.sub(\"http\\S+\",\" \", raw_text_string)\n",
        "raw_text_string = re.sub(\"pic.\\S+(\\xa0)*\", \"\", raw_text_string)\n",
        "raw_text_string = \"\".join([let for let in raw_text_string if let not in string.punctuation])\n",
        "final_list = tweet_tokenize.tokenize(raw_text_string)\n",
        "final_string = ' '.join(final_list)"
      ],
      "execution_count": 0,
      "outputs": []
    },
    {
      "cell_type": "code",
      "metadata": {
        "id": "QDcxxkH1trPE",
        "colab_type": "code",
        "colab": {}
      },
      "source": [
        "num_tokens = len(final_list)\n",
        "num_type_tokens = len(set(final_list))\n",
        "TTR = num_type_tokens/num_tokens"
      ],
      "execution_count": 0,
      "outputs": []
    },
    {
      "cell_type": "code",
      "metadata": {
        "id": "K3Rm0t-MtrR8",
        "colab_type": "code",
        "colab": {
          "base_uri": "https://localhost:8080/",
          "height": 67
        },
        "outputId": "4442a191-9c38-4a7e-8888-b65c1f3008c9"
      },
      "source": [
        "print(f'The number of tokens in the text are {num_tokens}')\n",
        "print(f'The number of unique tokens in the text are {num_type_tokens}')\n",
        "print(f'The type by token ratio would be {TTR}')"
      ],
      "execution_count": 7,
      "outputs": [
        {
          "output_type": "stream",
          "text": [
            "The number of tokens in the text are 297744\n",
            "The number of unique tokens in the text are 48912\n",
            "The type by token ratio would be 0.16427535063678866\n"
          ],
          "name": "stdout"
        }
      ]
    },
    {
      "cell_type": "markdown",
      "metadata": {
        "id": "Fo_GdpG6LA18",
        "colab_type": "text"
      },
      "source": [
        "Question 3.\n",
        "#Heap's Law\n",
        "\n",
        "Let |V| be the size of the vocabulary and N be the corresponding number of tokens."
      ]
    },
    {
      "cell_type": "code",
      "metadata": {
        "id": "mCPj1AT4NFUQ",
        "colab_type": "code",
        "colab": {
          "base_uri": "https://localhost:8080/",
          "height": 329
        },
        "outputId": "4b8098df-adf6-4c8d-8d43-12d27037c9bb"
      },
      "source": [
        "from scipy.optimize import curve_fit\n",
        "\n",
        "numvocab = []\n",
        "numtokens = []\n",
        "vocabulary = set()\n",
        "for i,token in enumerate(final_list):\n",
        "    vocabulary.add(token)\n",
        "    numvocab.append(len(vocabulary))\n",
        "    numtokens.append(i+1)\n",
        "   \n",
        "Vnp = np.array(numvocab)\n",
        "Nnp = np.array(numtokens)\n",
        "\n",
        "def heap(x,k,b):\n",
        "    return k*(pow(x,b))\n",
        "\n",
        "parameters = curve_fit(heap,Nnp,Vnp)\n",
        "k,b = parameters[0]\n",
        "\n",
        "#plot of actual data and fitted curve\n",
        "plt.plot(Nnp[::5000], Vnp[::5000], 'ro',label='Experimental Data')\n",
        "plt.plot(Nnp,heap(Nnp,k,b),'-b',label = 'Fitted Curve')\n",
        "plt.legend(loc='upper left')\n",
        "plt.title('Heap\\'s Law')\n",
        "plt.xlabel('Corpus Size')\n",
        "plt.ylabel('Vocabulary count')\n",
        "plt.show()\n",
        "print(\"k =\",k)\n",
        "print(\"beta =\",b)"
      ],
      "execution_count": 8,
      "outputs": [
        {
          "output_type": "display_data",
          "data": {
            "image/png": "[encoded data removed]",
            "text/plain": [
              "<Figure size 432x288 with 1 Axes>"
            ]
          },
          "metadata": {
            "tags": []
          }
        },
        {
          "output_type": "stream",
          "text": [
            "k = 6.636934197061343\n",
            "beta = 0.7067278418906991\n"
          ],
          "name": "stdout"
        }
      ]
    },
    {
      "cell_type": "code",
      "metadata": {
        "id": "SinO1_MhLq34",
        "colab_type": "code",
        "colab": {}
      },
      "source": [
        ""
      ],
      "execution_count": 0,
      "outputs": []
    }
  ]
}